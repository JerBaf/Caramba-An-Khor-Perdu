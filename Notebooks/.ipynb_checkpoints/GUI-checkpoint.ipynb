{
 "cells": [
  {
   "cell_type": "markdown",
   "id": "5373d2d2",
   "metadata": {},
   "source": [
    "# GUI"
   ]
  },
  {
   "cell_type": "code",
   "execution_count": 2,
   "id": "5cd9f854",
   "metadata": {},
   "outputs": [],
   "source": [
    "import matplotlib.pyplot as plt\n",
    "import PySimpleGUI as sg\n",
    "import os.path"
   ]
  },
  {
   "cell_type": "markdown",
   "id": "100c5557",
   "metadata": {},
   "source": [
    "### First Tests"
   ]
  },
  {
   "cell_type": "code",
   "execution_count": 217,
   "id": "e9410653",
   "metadata": {},
   "outputs": [],
   "source": [
    "def image_viewer():\n",
    "    # First the window layout in 2 columns\n",
    "    file_list_column = [\n",
    "        [sg.Text(\"Image Folder\"),sg.In(size=(25, 1), enable_events=True, key=\"-FOLDER-\"),\n",
    "            sg.FolderBrowse(),],\n",
    "        [sg.Listbox(values=[], enable_events=True, size=(40, 20), key=\"-FILE LIST-\")],]\n",
    "    # For now will only show the name of the file that was chosen\n",
    "    image_viewer_column = [\n",
    "        [sg.Text(\"Choose an image from list on left:\")],\n",
    "        [sg.Text(size=(40, 1), key=\"-TOUT-\")],\n",
    "        [sg.Image(key=\"-IMAGE-\")],]\n",
    "    # ----- Full layout -----\n",
    "    layout = [[sg.Column(file_list_column),\n",
    "                sg.VSeperator(),\n",
    "                sg.Column(image_viewer_column),]]\n",
    "    window = sg.Window(\"Image Viewer\", layout)\n",
    "    # Run the Event Loop\n",
    "    while True:\n",
    "        event, values = window.read()\n",
    "        if event == \"Exit\" or event == sg.WIN_CLOSED:\n",
    "            break\n",
    "        # Folder name was filled in, make a list of files in the folder\n",
    "        if event == \"-FOLDER-\":\n",
    "            folder = values[\"-FOLDER-\"]\n",
    "            try:\n",
    "                # Get list of files in folder\n",
    "                file_list = os.listdir(folder)\n",
    "            except:\n",
    "                file_list = []\n",
    "            fnames = [f for f in file_list if os.path.isfile(os.path.join(folder, f))\n",
    "                and f.lower().endswith((\".png\", \".gif\"))]\n",
    "            window[\"-FILE LIST-\"].update(fnames)\n",
    "        elif event == \"-FILE LIST-\":  # A file was chosen from the listbox\n",
    "            try:\n",
    "                filename = os.path.join(\n",
    "                    values[\"-FOLDER-\"], values[\"-FILE LIST-\"][0]\n",
    "                )\n",
    "                window[\"-TOUT-\"].update(filename)\n",
    "                window[\"-IMAGE-\"].update(filename=filename)\n",
    "            except:\n",
    "                pass\n",
    "    window.close()"
   ]
  },
  {
   "cell_type": "markdown",
   "id": "3caeec4b",
   "metadata": {},
   "source": [
    "### Constants"
   ]
  },
  {
   "cell_type": "code",
   "execution_count": 3,
   "id": "8b56c65b",
   "metadata": {},
   "outputs": [],
   "source": [
    "red_square = \"/Projects/Caramba-An-Khor-Perdu/Images/test/red.png\"\n",
    "red_token = \"/Projects/Caramba-An-Khor-Perdu/Images/test/red_token.png\""
   ]
  },
  {
   "cell_type": "markdown",
   "id": "96e47f2e",
   "metadata": {},
   "source": [
    "### Shop "
   ]
  },
  {
   "cell_type": "markdown",
   "id": "81937405",
   "metadata": {},
   "source": [
    "#### Store"
   ]
  },
  {
   "cell_type": "code",
   "execution_count": 4,
   "id": "cc59fa66",
   "metadata": {},
   "outputs": [],
   "source": [
    "class Store_Viewer():\n",
    "    \n",
    "    def __init__(self):\n",
    "        self.layout = [[sg.Push(),sg.Text(\"Store\",justification=\"center\"),sg.Push()],\n",
    "             [sg.Button(\"\",image_filename=red_square,key=\"red_square_1\"),sg.Image(filename=red_token,subsample=2),sg.Image(filename=red_token,subsample=2),sg.Image(filename=red_token,subsample=2)],\n",
    "             [sg.Button(\"\",image_filename=red_square,key=\"red_square_2\"),sg.Image(filename=red_token,subsample=2),sg.Image(filename=red_token,subsample=2),sg.Image(filename=red_token,subsample=2)],\n",
    "             [sg.Button(\"\",image_filename=red_square,key=\"red_square_3\"),sg.Image(filename=red_token,subsample=2),sg.Image(filename=red_token,subsample=2),sg.Image(filename=red_token,subsample=2)],\n",
    "             [sg.Button(\"\",image_filename=red_square,key=\"red_square_4\"),sg.Image(filename=red_token,subsample=2),sg.Image(filename=red_token,subsample=2)],\n",
    "             [sg.Button(\"\",image_filename=red_square,key=\"red_square_5\"),sg.Image(filename=red_token,subsample=2),sg.Image(filename=red_token,subsample=2)],\n",
    "             [sg.Button(\"\",image_filename=red_square,key=\"red_square_6\"),sg.Image(filename=red_token,subsample=2),sg.Image(filename=red_token,subsample=2)],]"
   ]
  },
  {
   "cell_type": "markdown",
   "id": "0140c44c",
   "metadata": {},
   "source": [
    "#### Shop's Ressource Pool"
   ]
  },
  {
   "cell_type": "code",
   "execution_count": 20,
   "id": "69aec571",
   "metadata": {},
   "outputs": [],
   "source": [
    "class Pool_Viewer():\n",
    "    \n",
    "    def __init__(self,title,base_key=\"t_\",init_value=0):\n",
    "        self.layout = [[sg.Text(title,justification=\"center\")],\n",
    "             [sg.Button(\"\",image_filename=red_square,key=\"red_square_1\"),sg.Text(init_value,k=base_key+\"1\")],\n",
    "             [sg.Button(\"\",image_filename=red_square,key=\"red_square_2\"),sg.Text(init_value,k=base_key+\"2\")],\n",
    "             [sg.Button(\"\",image_filename=red_square,key=\"red_square_3\"),sg.Text(init_value,k=base_key+\"3\")],\n",
    "             [sg.Button(\"\",image_filename=red_square,key=\"red_square_4\"),sg.Text(init_value,k=base_key+\"4\")],\n",
    "             [sg.Button(\"\",image_filename=red_square,key=\"red_square_5\"),sg.Text(init_value,k=base_key+\"5\")],\n",
    "             [sg.Button(\"\",image_filename=red_square,key=\"red_square_6\"),sg.Text(init_value,k=base_key+\"6\")],]"
   ]
  },
  {
   "cell_type": "markdown",
   "id": "36a141ab",
   "metadata": {},
   "source": [
    "#### Global Shop Viewer"
   ]
  },
  {
   "cell_type": "code",
   "execution_count": 27,
   "id": "6e711141",
   "metadata": {},
   "outputs": [],
   "source": [
    "def shop_viewer():\n",
    "     # ----- Full layout -----\n",
    "    store_viewer = Store_Viewer()\n",
    "    shop_ressource_pool = Pool_Viewer(\"Shop's Ressource Pool\",base_key=\"shop_token_\",init_value=5)\n",
    "    player_ressource_pool = Pool_Viewer(\"Player's Ressource Pool\",base_key=\"player_token_\")\n",
    "    layout = [[sg.Column(store_viewer.layout),\n",
    "                sg.VSeperator(),\n",
    "                sg.Column(shop_ressource_pool.layout),\n",
    "                sg.VSeperator(),\n",
    "                sg.Column(player_ressource_pool.layout),]]\n",
    "    window = sg.Window(\"Image Viewer\", layout)\n",
    "    while True:\n",
    "        event, values = window.read()\n",
    "        if event == \"OK\" or event == sg.WIN_CLOSED:\n",
    "            break\n",
    "    window.close()"
   ]
  },
  {
   "cell_type": "markdown",
   "id": "5018a366",
   "metadata": {},
   "source": [
    "while True:\n",
    "        event, values = window.read()\n",
    "        if event == \"red_square_1\":\n",
    "            init_text = window[\"t_1\"].DisplayText\n",
    "            window[\"t_1\"].update(str(int(init_text)+1))\n",
    "        if event == \"OK\" or event == sg.WIN_CLOSED:\n",
    "            break\n",
    "    window.close()"
   ]
  },
  {
   "cell_type": "code",
   "execution_count": 28,
   "id": "0773d472",
   "metadata": {},
   "outputs": [],
   "source": [
    "shop_viewer()"
   ]
  }
 ],
 "metadata": {
  "kernelspec": {
   "display_name": "Python 3 (ipykernel)",
   "language": "python",
   "name": "python3"
  },
  "language_info": {
   "codemirror_mode": {
    "name": "ipython",
    "version": 3
   },
   "file_extension": ".py",
   "mimetype": "text/x-python",
   "name": "python",
   "nbconvert_exporter": "python",
   "pygments_lexer": "ipython3",
   "version": "3.8.13"
  }
 },
 "nbformat": 4,
 "nbformat_minor": 5
}
