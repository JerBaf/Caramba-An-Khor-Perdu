{
 "cells": [
  {
   "cell_type": "markdown",
   "metadata": {},
   "source": [
    "# Main notebook"
   ]
  },
  {
   "cell_type": "code",
   "execution_count": 1,
   "metadata": {},
   "outputs": [],
   "source": [
    "import matplotlib.pyplot as plt\n",
    "import numpy as np\n",
    "import tensorflow as tf\n",
    "from tensorflow import keras\n",
    "from tensorflow.keras import layers\n",
    "import random"
   ]
  },
  {
   "cell_type": "code",
   "execution_count": 2,
   "metadata": {},
   "outputs": [
    {
     "data": {
      "text/plain": [
       "[PhysicalDevice(name='/physical_device:GPU:0', device_type='GPU')]"
      ]
     },
     "execution_count": 2,
     "metadata": {},
     "output_type": "execute_result"
    }
   ],
   "source": [
    "tf.config.list_physical_devices('GPU')"
   ]
  },
  {
   "cell_type": "markdown",
   "metadata": {},
   "source": [
    "## Env Variables"
   ]
  },
  {
   "cell_type": "code",
   "execution_count": 3,
   "metadata": {},
   "outputs": [],
   "source": [
    "DEFAULT_PLAYER_NB = 2\n",
    "GRID_SIDE_SIZE = 25\n",
    "MAX_POSITION = 624 # 25*25-1"
   ]
  },
  {
   "cell_type": "markdown",
   "metadata": {},
   "source": [
    "## Environment Creation"
   ]
  },
  {
   "cell_type": "markdown",
   "metadata": {},
   "source": [
    "### Tile"
   ]
  },
  {
   "cell_type": "code",
   "execution_count": 4,
   "metadata": {},
   "outputs": [],
   "source": [
    "class Tile:\n",
    "    \"\"\"\n",
    "    Description:\n",
    "        Representation of a game tile. A tile is described by\n",
    "        its color and its symbol. When a tile is not placed yet,\n",
    "        it has a default state on the grid: \"Blank\" color and \n",
    "        \"Empty\" symbol.\n",
    "        \n",
    "    Parameters:\n",
    "        color: (String) Color of the tile. Must be in the valid set of colors.\n",
    "        \n",
    "    \"\"\"\n",
    "    \n",
    "    DEFAULT_COLOR = \"Blank\"\n",
    "    DEFAULT_SYMBOL = \"Empty\"\n",
    "    SET_OF_COLORS = {\"Red\",\"Blue\",\"Green\",\"Black\",\"White\"}\n",
    "    SET_OF_SYMBOLS = {\"Bird\",\"Dog\",\"Scarab\",\"Scrib\",\"Storage\",\"Desert\",\"Bonus\"}\n",
    "    SYMBOL_NUMBER_DICT = {\"Bird\":2,\"Dog\":2,\"Scarab\":2,\"Scrib\":1,\"Storage\":1,\"Desert\":1,\"Bonus\":2}\n",
    "    \n",
    "    \n",
    "    def __init__(self,color=DEFAULT_COLOR,symbol=DEFAULT_SYMBOL):\n",
    "        if color not in Tile.SET_OF_COLORS and color != Tile.DEFAULT_COLOR:\n",
    "            raise ValueError\n",
    "        if symbol not in Tile.SET_OF_SYMBOLS and symbol != Tile.DEFAULT_SYMBOL:\n",
    "            raise ValueError\n",
    "        self.color = color\n",
    "        self.symbol = symbol\n",
    "        \n",
    "    @staticmethod\n",
    "    def create_tiles_values_dict():\n",
    "        \"\"\" Create the mapping between integers on the grid and the tiles. \"\"\"\n",
    "        tiles_values = {0:Tile(Tile.DEFAULT_COLOR,Tile.DEFAULT_SYMBOL)}\n",
    "        colors = sorted(Tile.SET_OF_COLORS)\n",
    "        symbols = sorted(Tile.SET_OF_SYMBOLS)\n",
    "        i = 1\n",
    "        for c in colors:\n",
    "            for s in symbols:\n",
    "                tiles_values[i] = Tile(c,s)\n",
    "                i += 1\n",
    "        return tiles_values"
   ]
  },
  {
   "cell_type": "markdown",
   "metadata": {},
   "source": [
    "### Deck"
   ]
  },
  {
   "cell_type": "code",
   "execution_count": 5,
   "metadata": {},
   "outputs": [],
   "source": [
    "class Deck:\n",
    "    \"\"\"\n",
    "    Description:\n",
    "        Representation of the two stack of Tiles from which the\n",
    "        players can draw. The stacks are randomly shuffled according\n",
    "        to the given seed.\n",
    "        \n",
    "    Parameters:\n",
    "        seed: (int) Seed for initialization of the random number generator.\n",
    "    \n",
    "    \"\"\"\n",
    "    def __init__(self,seed=0):\n",
    "        random.seed(seed)\n",
    "        np.random.seed(seed)\n",
    "        init_deck = []\n",
    "        for c in Tile.SET_OF_COLORS:\n",
    "            for s, n in Tile.SYMBOL_NUMBER_DICT.items():\n",
    "                for i in range(n):\n",
    "                    init_deck.append(Tile(c,s))\n",
    "        random.shuffle(init_deck)\n",
    "        self.stack_0 = init_deck[:len(init_deck)//2]\n",
    "        self.stack_1 = init_deck[len(init_deck)//2:]\n",
    "        \n",
    "    def draw(self,stack):\n",
    "        \"\"\" Draw a tile from the given stack. \"\"\"\n",
    "        if stack == 0:\n",
    "            return self.stack_0.pop(0)\n",
    "        else:\n",
    "            return self.stack_1.pop(1)\n",
    "        \n",
    "    def tile_available(self):\n",
    "        \"\"\" Return a tuple of the two available tiles'color. \"\"\"\n",
    "        Tile_0 = None\n",
    "        Tile_1 = None\n",
    "        if len(self.stack_0) != 0:\n",
    "            Tile_0 = self.stack_0[0].color\n",
    "        if len(self.stack_1) != 0:\n",
    "            Tile_1 = self.stack_1[0].color\n",
    "        return Tile_0, Tile_1"
   ]
  },
  {
   "cell_type": "markdown",
   "metadata": {},
   "source": [
    "### Token"
   ]
  },
  {
   "cell_type": "code",
   "execution_count": 6,
   "metadata": {},
   "outputs": [],
   "source": [
    "class Token():\n",
    "    \"\"\"\n",
    "    Description:\n",
    "        Representation of the token needed to buy\n",
    "        tiles.\n",
    "    \n",
    "    Parameters:\n",
    "        color: (String) Color of the token. Must be\n",
    "                        included in \"Red\",\"Green\",\"Blue\",\n",
    "                        \"Black\",\"White\" or \"Ankh\".\n",
    "    \n",
    "    \"\"\"\n",
    "    \n",
    "    REGULAR_COLORS = {\"Red\",\"Green\",\"Blue\",\"Black\",\"White\"}\n",
    "    SPECIAL_COLOR = \"Ankh\"\n",
    "    \n",
    "    def __init__(self,color):\n",
    "        if color not in Token.REGULAR_COLORS and color != Token.SPECIAL_COLOR:\n",
    "            raise ValueError\n",
    "        self.color = color"
   ]
  },
  {
   "cell_type": "markdown",
   "metadata": {},
   "source": [
    "### Ressource Pool"
   ]
  },
  {
   "cell_type": "code",
   "execution_count": 24,
   "metadata": {},
   "outputs": [],
   "source": [
    "class Ressource_Pool():\n",
    "    \"\"\"\n",
    "    Description:\n",
    "        Representation of the pool of tokens needed to buy\n",
    "        tiles. Each stack of token is an integer.\n",
    "        \n",
    "    Parameters:\n",
    "        players_number: (int) Number of player in the game.\n",
    "    \n",
    "    \"\"\"\n",
    "    \n",
    "    def __init__(self,init_token_nb,max_regular_nb,max_special_nb,max_tot_reg_nb):\n",
    "        self.MAX_REGULAR_NB = max_regular_nb\n",
    "        self.MAX_SPECIAL_NB = max_special_nb\n",
    "        self.MAX_REG_POOL_SIZE = max_tot_reg_nb\n",
    "        self.red_tokens = [Token(\"Red\") for i in range(init_token_nb)]\n",
    "        self.green_tokens = [Token(\"Green\") for i in range(init_token_nb)]\n",
    "        self.blue_tokens = [Token(\"Blue\") for i in range(init_token_nb)]\n",
    "        self.black_tokens = [Token(\"Black\") for i in range(init_token_nb)]\n",
    "        self.white_tokens = [Token(\"White\") for i in range(init_token_nb)]\n",
    "        self.ankh_tokens = [Token(\"Amkh\") for i in range(init_token_nb)]\n",
    "        self.pool_dict = {\"Red\":self.red_tokens,\"Green\":self.green_tokens,\n",
    "                           \"Blue\":self.blue_tokens,\"Black\":self.black_tokens,\n",
    "                           \"White\":self.white_tokens,\"Ankh\":self.ankh_tokens}\n",
    "        \n",
    "    \n",
    "    def fill(self, color):\n",
    "        \"\"\" Add a token of the given color to the ressource pool. \"\"\"\n",
    "        color_pool = self.pool_dict[color]\n",
    "        max_color_pool_size = (self.MAX_SPECIAL_NB if color == Token.SPECIAL_COLOR\n",
    "                                    else self.MAX_REGULAR_NB)\n",
    "        total_regular_pool_size = sum([len(self.pool_dict[c]) for c in Token.REGULAR_COLORS])\n",
    "        if len(color_pool) >= max_color_pool_size:\n",
    "            raise Exception(f\"Maximum number of token reached for the color {color}\")\n",
    "        elif color != Token.SPECIAL_COLOR and total_regular_pool_size >= self.MAX_REG_POOL_SIZE:\n",
    "            raise Exception(f\"Maximum number of total token reached: {total_regular_pool_size}\")\n",
    "        else:\n",
    "            color_pool.append(Token(color))\n",
    "        \n",
    "    def draw(self, color):\n",
    "        \"\"\" Draw a token of the given color to the ressource pool. \"\"\"\n",
    "        if len(self.pool_dict[color]) <= 0:\n",
    "            raise Exception(f\"No token left for the color {color}\")\n",
    "        else:\n",
    "            self.pool_dict[color].pop(0)"
   ]
  },
  {
   "cell_type": "code",
   "execution_count": 25,
   "metadata": {},
   "outputs": [],
   "source": [
    "r = Ressource_Pool(0,5,2,5)"
   ]
  },
  {
   "cell_type": "code",
   "execution_count": 32,
   "metadata": {},
   "outputs": [],
   "source": [
    "r.fill(\"Ankh\")"
   ]
  },
  {
   "cell_type": "code",
   "execution_count": 34,
   "metadata": {},
   "outputs": [
    {
     "data": {
      "text/plain": [
       "'Ankh'"
      ]
     },
     "execution_count": 34,
     "metadata": {},
     "output_type": "execute_result"
    }
   ],
   "source": [
    "r.ankh_tokens[1].color"
   ]
  },
  {
   "cell_type": "markdown",
   "metadata": {},
   "source": [
    "### Shop"
   ]
  },
  {
   "cell_type": "code",
   "execution_count": null,
   "metadata": {},
   "outputs": [],
   "source": [
    "class Shop:\n",
    "    \n",
    "    def __init__(self,seed=0):\n",
    "        self.deck = Deck(seed)\n",
    "        self"
   ]
  },
  {
   "cell_type": "markdown",
   "metadata": {},
   "source": [
    "### Global Environment"
   ]
  },
  {
   "cell_type": "code",
   "execution_count": null,
   "metadata": {},
   "outputs": [],
   "source": [
    "class Ankhor_Env:\n",
    "    def __init__(self,player_nb=DEFAULT_PLAYER_NB):\n",
    "        self.player_nb = player_nb\n",
    "        self.grid = np.zeros((GRID_SIDE_SIZE,GRID_SIDE_SIZE,player_nb))\n",
    "        self.end = False\n",
    "        self.curr_player = 0\n",
    "        self.tiles_values = TILES_VALUES_DICT\n",
    "        self.winner = None\n",
    "        self.tile_stack = None\n",
    "        \n",
    "    def position_coordinates(position):\n",
    "        \"\"\" Retrieve the coordinate on the grid given the integer position. \"\"\"\n",
    "        return (position//GRID_SIDE_SIZE,position%GRID_SIDE_SIZE)\n",
    "    \n",
    "    def check_basis(self,x,y,player,tile):\n",
    "        \"\"\" Check if the tile can be placed on the relative basis. \"\"\"\n",
    "        neighbours = []\n",
    "        for i in [-1,1]:\n",
    "            for j in [-1,1]:\n",
    "                neighbour_tile = self.grid[x+i,y+j,player]\n",
    "                if neighbour_tile == 0: # Miss a tile in the basis\n",
    "                    return False\n",
    "                neighbours.append(neighbour_tile)\n",
    "        basis_colors = [t.color for t in neighbours]\n",
    "        return tile.color in basis_colors\n",
    "                \n",
    "        \n",
    "    def check_valid(self,position,player,tile):\n",
    "        \"\"\" Check if the move is valid. \"\"\"\n",
    "        if position < 0 or position > MAX_POSITION: # Outside the grid\n",
    "            return False\n",
    "        if position % 2 == 1: # Between Tiles\n",
    "            return False\n",
    "        pos_x, pos_y = position_coordinates(position)\n",
    "        if self.grid[pos_x,pos_y,player] != 0: # Tile unavailable\n",
    "            return False\n",
    "        if pos_x%2 == 1: # On top of basis\n",
    "            return check_basis(pos_x,pos_y,player,tile)\n",
    "        return True"
   ]
  },
  {
   "cell_type": "code",
   "execution_count": null,
   "metadata": {},
   "outputs": [],
   "source": [
    "test = Tile(\"Red\",\"Bird\")"
   ]
  }
 ],
 "metadata": {
  "kernelspec": {
   "display_name": "Python 3",
   "language": "python",
   "name": "python3"
  },
  "language_info": {
   "codemirror_mode": {
    "name": "ipython",
    "version": 3
   },
   "file_extension": ".py",
   "mimetype": "text/x-python",
   "name": "python",
   "nbconvert_exporter": "python",
   "pygments_lexer": "ipython3",
   "version": "3.8.5"
  }
 },
 "nbformat": 4,
 "nbformat_minor": 5
}
