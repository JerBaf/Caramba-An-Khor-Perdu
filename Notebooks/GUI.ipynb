{
 "cells": [
  {
   "cell_type": "markdown",
   "id": "5373d2d2",
   "metadata": {},
   "source": [
    "# GUI"
   ]
  },
  {
   "cell_type": "code",
   "execution_count": 1,
   "id": "5cd9f854",
   "metadata": {},
   "outputs": [],
   "source": [
    "import matplotlib.pyplot as plt\n",
    "import PySimpleGUI as sg\n",
    "import os.path\n",
    "from ankhor_env import *"
   ]
  },
  {
   "cell_type": "markdown",
   "id": "3caeec4b",
   "metadata": {},
   "source": [
    "### Constants"
   ]
  },
  {
   "cell_type": "code",
   "execution_count": 2,
   "id": "8b56c65b",
   "metadata": {},
   "outputs": [],
   "source": [
    "red_square = \"/Projects/Caramba-An-Khor-Perdu/Images/test/red.png\"\n",
    "red_token = \"/Projects/Caramba-An-Khor-Perdu/Images/test/red_token.png\""
   ]
  },
  {
   "cell_type": "markdown",
   "id": "96e47f2e",
   "metadata": {},
   "source": [
    "### Shop "
   ]
  },
  {
   "cell_type": "markdown",
   "id": "81937405",
   "metadata": {},
   "source": [
    "#### Store"
   ]
  },
  {
   "cell_type": "code",
   "execution_count": 3,
   "id": "cc59fa66",
   "metadata": {},
   "outputs": [],
   "source": [
    "class Store_Viewer():\n",
    "    \n",
    "    DEFAULT_BACKGROUND = \"blanched almond\"\n",
    "    \n",
    "    def __init__(self):\n",
    "        self.layout = [[sg.Push(),sg.Text(\"Store\",justification=\"center\"),sg.Push()],\n",
    "             [sg.Button(\"\",image_filename=red_square,key=\"red_square_1\"),sg.Image(filename=red_token,subsample=2,background_color=Store_Viewer.DEFAULT_BACKGROUND),sg.Image(filename=red_token,subsample=2,background_color=Store_Viewer.DEFAULT_BACKGROUND),sg.Image(filename=red_token,subsample=2,background_color=Store_Viewer.DEFAULT_BACKGROUND)],\n",
    "             [sg.Button(\"\",image_filename=red_square,key=\"red_square_2\"),sg.Image(filename=red_token,subsample=2,background_color=Store_Viewer.DEFAULT_BACKGROUND),sg.Image(filename=red_token,subsample=2,background_color=Store_Viewer.DEFAULT_BACKGROUND),sg.Image(filename=red_token,subsample=2,background_color=Store_Viewer.DEFAULT_BACKGROUND)],\n",
    "             [sg.Button(\"\",image_filename=red_square,key=\"red_square_3\"),sg.Image(filename=red_token,subsample=2,background_color=Store_Viewer.DEFAULT_BACKGROUND),sg.Image(filename=red_token,subsample=2,background_color=Store_Viewer.DEFAULT_BACKGROUND),sg.Image(filename=red_token,subsample=2,background_color=Store_Viewer.DEFAULT_BACKGROUND)],\n",
    "             [sg.Button(\"\",image_filename=red_square,key=\"red_square_4\"),sg.Image(filename=red_token,subsample=2,background_color=Store_Viewer.DEFAULT_BACKGROUND),sg.Image(filename=red_token,subsample=2,background_color=Store_Viewer.DEFAULT_BACKGROUND)],\n",
    "             [sg.Button(\"\",image_filename=red_square,key=\"red_square_5\"),sg.Image(filename=red_token,subsample=2,background_color=Store_Viewer.DEFAULT_BACKGROUND),sg.Image(filename=red_token,subsample=2,background_color=Store_Viewer.DEFAULT_BACKGROUND)],\n",
    "             [sg.Button(\"\",image_filename=red_square,key=\"red_square_6\"),sg.Image(filename=red_token,subsample=2,background_color=Store_Viewer.DEFAULT_BACKGROUND),sg.Image(filename=red_token,subsample=2,background_color=Store_Viewer.DEFAULT_BACKGROUND)],]"
   ]
  },
  {
   "cell_type": "markdown",
   "id": "0140c44c",
   "metadata": {},
   "source": [
    "#### Shop's Ressource Pool"
   ]
  },
  {
   "cell_type": "code",
   "execution_count": 4,
   "id": "69aec571",
   "metadata": {},
   "outputs": [],
   "source": [
    "class Pool_Viewer():\n",
    "    \n",
    "    def __init__(self,title,base_key=\"t_\",init_value=0):\n",
    "        self.layout = [[sg.Text(title,justification=\"center\")],\n",
    "                     [sg.Button(\"\",button_color=\"white on blanched almond\",image_filename=red_token,key=\"red_square_1\"),sg.Text(init_value,key=base_key+\"1\",background_color=Store_Viewer.DEFAULT_BACKGROUND)],\n",
    "                     [sg.Button(\"\",button_color=\"white on blanched almond\",image_filename=red_token,key=\"red_square_2\"),sg.Text(init_value,key=base_key+\"2\",background_color=Store_Viewer.DEFAULT_BACKGROUND)],\n",
    "                     [sg.Button(\"\",button_color=\"white on blanched almond\",image_filename=red_token,key=\"red_square_3\"),sg.Text(init_value,key=base_key+\"3\",background_color=Store_Viewer.DEFAULT_BACKGROUND)],\n",
    "                     [sg.Button(\"\",button_color=\"white on blanched almond\",image_filename=red_token,key=\"red_square_4\"),sg.Text(init_value,key=base_key+\"4\",background_color=Store_Viewer.DEFAULT_BACKGROUND)],\n",
    "                     [sg.Button(\"\",button_color=\"white on blanched almond\",image_filename=red_token,key=\"red_square_5\"),sg.Text(init_value,key=base_key+\"5\",background_color=Store_Viewer.DEFAULT_BACKGROUND)],\n",
    "                     [sg.Button(\"\",button_color=\"white on blanched almond\",image_filename=red_token,key=\"red_square_6\"),sg.Text(init_value,key=base_key+\"6\",background_color=Store_Viewer.DEFAULT_BACKGROUND)],]"
   ]
  },
  {
   "cell_type": "markdown",
   "id": "1ae213ec",
   "metadata": {},
   "source": [
    "### Grid"
   ]
  },
  {
   "cell_type": "markdown",
   "id": "c7e0d1db",
   "metadata": {},
   "source": [
    "#### Single Tile"
   ]
  },
  {
   "cell_type": "code",
   "execution_count": 5,
   "id": "9ca83b0b",
   "metadata": {},
   "outputs": [],
   "source": [
    "class Tile_Viewer():\n",
    "    \n",
    "    VALUE_TO_PATH = {0:\"/Projects/Caramba-An-Khor-Perdu/Images/test/red.png\"}\n",
    "\n",
    "    @staticmethod  \n",
    "    def render_tile(value,key):\n",
    "        return sg.Button(\"\",image_filename=Tile_Viewer.VALUE_TO_PATH[value],pad=(0,0),\n",
    "                        size=(1,1),button_color=\"white on blanched almond\",key=key)"
   ]
  },
  {
   "cell_type": "markdown",
   "id": "770bb212",
   "metadata": {},
   "source": [
    "#### Grid"
   ]
  },
  {
   "cell_type": "code",
   "execution_count": 13,
   "id": "1f3d3f3a",
   "metadata": {},
   "outputs": [],
   "source": [
    "class Grid_Viewer():\n",
    "    \n",
    "    def __init__(self,grid):\n",
    "        self.grid = grid\n",
    "        self.DISPLAY_SIZE = (self.grid.GRID_SIDE_SIZE+1)//2\n",
    "        player_number = self.grid.grid.shape[-1]\n",
    "        player_layouts = []\n",
    "        for p in range(player_number):    \n",
    "            layout = []\n",
    "            for i in range(self.DISPLAY_SIZE):\n",
    "                row = []\n",
    "                for j in range(self.DISPLAY_SIZE):\n",
    "                    row.append(Tile_Viewer.render_tile(\n",
    "                        self.grid.grid[2*i,2*j,p],(i,j,p)))\n",
    "                layout.append(row)\n",
    "            col_layout = sg.Column(layout, background_color=\"blanched almond\", scrollable=True,\n",
    "                         size_subsample_width=4,size_subsample_height=4)\n",
    "            player_layouts.append([[col_layout]])\n",
    "            \n",
    "        self.layout = sg.TabGroup([[sg.Tab(f\"Player {p}\",player_layouts[p]) for p in range(player_number)]]) \n",
    "    \n",
    "    def redraw_grid(self,window):\n",
    "        for i in range(self.DISPLAY_SIZE):\n",
    "            for j in range(self.DISPLAY_SIZE):\n",
    "                tile_image = Tile_Viewer[self.grid.grid[2*i,2*j,self.PLAYER_ID]]\n",
    "                elem = window.find_element(key=(i,j))\n",
    "                elem.update(image_filename=tile_image)"
   ]
  },
  {
   "cell_type": "markdown",
   "id": "36a141ab",
   "metadata": {},
   "source": [
    "### Global Shop Viewer"
   ]
  },
  {
   "cell_type": "code",
   "execution_count": 16,
   "id": "f24c3376",
   "metadata": {},
   "outputs": [],
   "source": [
    "def create_shop_layout():\n",
    "    store_viewer = Store_Viewer()\n",
    "    shop_ressource_pool = Pool_Viewer(\"Shop's Ressource\",base_key=\"shop_token_\",init_value=5)\n",
    "    player_ressource_pool = Pool_Viewer(\"Player's Ressource\",base_key=\"player_token_\")\n",
    "    play_grid = Grid(2)\n",
    "    grid_viewer = Grid_Viewer(play_grid)\n",
    "    layout = [[sg.Column(store_viewer.layout, background_color=\"blanched almond\"),\n",
    "                sg.VSeperator(),\n",
    "                sg.Column(shop_ressource_pool.layout,background_color=\"blanched almond\"),\n",
    "                sg.VSeperator(),\n",
    "                sg.Column(player_ressource_pool.layout, background_color=\"blanched almond\"),\n",
    "                sg.VSeperator(),\n",
    "                grid_viewer.layout,\n",
    "                ],]\n",
    "    return layout"
   ]
  },
  {
   "cell_type": "code",
   "execution_count": 17,
   "id": "6e711141",
   "metadata": {},
   "outputs": [],
   "source": [
    "def shop_viewer():\n",
    "     # ----- Full layout -----\n",
    "    sg.ChangeLookAndFeel(\"LightBrown4\")\n",
    "    shop_layout = create_shop_layout()\n",
    "    window = sg.Window(\"Image Viewer\", shop_layout, background_color=\"blanched almond\")\n",
    "    while True:\n",
    "        event, values = window.read()\n",
    "        print(event)\n",
    "        if event == sg.WIN_CLOSED:\n",
    "            break\n",
    "    window.close()"
   ]
  },
  {
   "cell_type": "code",
   "execution_count": 18,
   "id": "66740ad3",
   "metadata": {},
   "outputs": [
    {
     "name": "stdout",
     "output_type": "stream",
     "text": [
      "(0, 0, 0)\n",
      "(0, 0, 1)\n",
      "red_square_10\n",
      "red_square_1\n",
      "red_square_2\n",
      "red_square_3\n",
      "red_square_4\n",
      "red_square_5\n",
      "red_square_6\n",
      "red_square_21\n",
      "red_square_10\n",
      "red_square_16\n",
      "None\n"
     ]
    }
   ],
   "source": [
    "shop_viewer()"
   ]
  },
  {
   "cell_type": "markdown",
   "id": "bbf9b797",
   "metadata": {},
   "source": [
    "while True:\n",
    "        event, values = window.read()\n",
    "        if event == \"red_square_1\":\n",
    "            init_text = window[\"t_1\"].DisplayText\n",
    "            window[\"t_1\"].update(str(int(init_text)+1))\n",
    "        if event == \"OK\" or event == sg.WIN_CLOSED:\n",
    "            break\n",
    "    window.close()"
   ]
  }
 ],
 "metadata": {
  "kernelspec": {
   "display_name": "Python 3 (ipykernel)",
   "language": "python",
   "name": "python3"
  },
  "language_info": {
   "codemirror_mode": {
    "name": "ipython",
    "version": 3
   },
   "file_extension": ".py",
   "mimetype": "text/x-python",
   "name": "python",
   "nbconvert_exporter": "python",
   "pygments_lexer": "ipython3",
   "version": "3.8.13"
  }
 },
 "nbformat": 4,
 "nbformat_minor": 5
}
